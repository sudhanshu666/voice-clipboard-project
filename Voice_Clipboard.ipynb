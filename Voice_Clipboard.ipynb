{
 "cells": [
  {
   "cell_type": "code",
   "execution_count": 5,
   "id": "4d19b85a-390b-4b10-8d3a-29ed9e0f56d1",
   "metadata": {
    "scrolled": true
   },
   "outputs": [
    {
     "ename": "ModuleNotFoundError",
     "evalue": "No module named 'keyboard'",
     "output_type": "error",
     "traceback": [
      "\u001b[31m---------------------------------------------------------------------------\u001b[39m",
      "\u001b[31mModuleNotFoundError\u001b[39m                       Traceback (most recent call last)",
      "\u001b[36mCell\u001b[39m\u001b[36m \u001b[39m\u001b[32mIn[5]\u001b[39m\u001b[32m, line 1\u001b[39m\n\u001b[32m----> \u001b[39m\u001b[32m1\u001b[39m \u001b[38;5;28;01mimport\u001b[39;00m\u001b[38;5;250m \u001b[39m\u001b[34;01mkeyboard\u001b[39;00m\n\u001b[32m      2\u001b[39m \u001b[38;5;28;01mimport\u001b[39;00m\u001b[38;5;250m \u001b[39m\u001b[34;01msounddevice\u001b[39;00m\u001b[38;5;250m \u001b[39m\u001b[38;5;28;01mas\u001b[39;00m\u001b[38;5;250m \u001b[39m\u001b[34;01msd\u001b[39;00m\n\u001b[32m      3\u001b[39m \u001b[38;5;28;01mimport\u001b[39;00m\u001b[38;5;250m \u001b[39m\u001b[34;01mqueue\u001b[39;00m\n",
      "\u001b[31mModuleNotFoundError\u001b[39m: No module named 'keyboard'"
     ]
    }
   ],
   "source": [
    "import keyboard\n",
    "import sounddevice as sd\n",
    "import queue\n",
    "import json\n",
    "import pyperclip\n",
    "import tkinter as tk\n",
    "import re\n",
    "from vosk import Model, KaldiRecognizer\n",
    "\n",
    "\n",
    "MODEL_PATH = \"vosk-model-en-us-0.42-gigaspeech\"  \n",
    "HINDI_MODEL_PATH = \"vosk-model-small-hi-0.22\" \n",
    "\n",
    "english_model = Model(MODEL_PATH)\n",
    "hindi_model = Model(HINDI_MODEL_PATH)\n",
    "\n",
    "# Queue to hold audio data\n",
    "audio_queue = queue.Queue()\n",
    "\n",
    "def callback(indata, frames, time, status):\n",
    "    if status:\n",
    "        print(status)\n",
    "    audio_queue.put(bytes(indata))\n",
    "\n",
    "def clean_text(text):\n",
    "    if len(text) == 1:\n",
    "        return text \n",
    "    text = text.capitalize()  \n",
    "    text = re.sub(r\"\\s+\", \" \", text).strip() \n",
    "    text = re.sub(r\"(\\w)([,.!?])\", r\"\\1\\2\", text) \n",
    "    if text and text[-1] not in \".!?\":\n",
    "        text += \".\"  \n",
    "    return text\n",
    "\n",
    "def listen_and_transcribe(language=\"english\"):\n",
    "    model = english_model if language == \"english\" else hindi_model\n",
    "    recognizer = KaldiRecognizer(model, 16000)\n",
    "    recognizer.SetWords(True)\n",
    "    \n",
    "    with sd.RawInputStream(samplerate=16000, blocksize=8000, dtype='int16', channels=1, callback=callback):\n",
    "        print(\"Listening... Speak now!\")\n",
    "        full_text = \"\"\n",
    "        \n",
    "        while True:\n",
    "            data = audio_queue.get()\n",
    "            if recognizer.AcceptWaveform(data):\n",
    "                result = json.loads(recognizer.Result())\n",
    "                text = result.get(\"text\", \"\").strip()\n",
    "                if text:\n",
    "                    full_text = clean_text(text)\n",
    "                    break  \n",
    "            else:\n",
    "                partial_result = json.loads(recognizer.PartialResult()).get(\"partial\", \"\").strip()\n",
    "                if partial_result:\n",
    "                    full_text = clean_text(partial_result)  # Show live text\n",
    "\n",
    "        if full_text:\n",
    "            print(\"You said:\", full_text)\n",
    "            pyperclip.copy(full_text)  \n",
    "            text_output.insert(tk.END, full_text + \"\\n\") \n",
    "            with open(\"voice_history.txt\", \"a\", encoding=\"utf-8\") as f:\n",
    "                f.write(full_text + \"\\n\")  \n",
    "\n",
    "def discard_text():\n",
    "    text_output.delete(\"1.0\", tk.END)  # Clear text\n",
    "    tk_root.withdraw()  # Hide the UI\n",
    "\n",
    "def show_ui():\n",
    "    tk_root.deiconify()  # Show the UI\n",
    "    with open(\"voice_history.txt\", \"r\", encoding=\"utf-8\") as f:\n",
    "        history = f.read()\n",
    "    text_output.delete(\"1.0\", tk.END)\n",
    "    text_output.insert(tk.END, history) \n",
    "    listen_and_transcribe(language=language_var.get())\n",
    "\n",
    "# Create UI\n",
    "tk_root = tk.Tk()\n",
    "tk_root.title(\"Voice Clipboard\")\n",
    "tk_root.geometry(\"500x350\")\n",
    "tk_root.configure(bg=\"#1e1e1e\")\n",
    "tk_root.withdraw()  # Hide initially\n",
    "\n",
    "text_output = tk.Text(tk_root, bg=\"#252526\", fg=\"#ffffff\", font=(\"Arial\", 12), wrap=tk.WORD)\n",
    "text_output.pack(expand=True, fill=tk.BOTH, padx=10, pady=10)\n",
    "\n",
    "language_var = tk.StringVar(value=\"english\")\n",
    "language_frame = tk.Frame(tk_root, bg=\"#1e1e1e\")\n",
    "language_frame.pack(pady=5)\n",
    "\n",
    "tk.Radiobutton(language_frame, text=\"English\", variable=language_var, value=\"english\", fg=\"white\", bg=\"#1e1e1e\").pack(side=tk.LEFT, padx=10)\n",
    "tk.Radiobutton(language_frame, text=\"Hindi\", variable=language_var, value=\"hindi\", fg=\"white\", bg=\"#1e1e1e\").pack(side=tk.LEFT, padx=10)\n",
    "\n",
    "discard_button = tk.Button(tk_root, text=\"Discard\", command=discard_text, bg=\"#ff5555\", fg=\"#ffffff\")\n",
    "discard_button.pack(pady=5)\n",
    "\n",
    "\n",
    "keyboard.add_hotkey(\"alt+ctrl\", show_ui)\n",
    "\n",
    "print(\"Voice Clipboard running... Press Alt + Ctrl to start speaking.\")\n",
    "tk_root.mainloop()"
   ]
  },
  {
   "cell_type": "code",
   "execution_count": null,
   "id": "cb99a4a1-c6eb-4638-9ec1-612378ba1a3a",
   "metadata": {},
   "outputs": [
    {
     "name": "stdout",
     "output_type": "stream",
     "text": [
      "Requirement already satisfied: keyboard in c:\\users\\sudha\\appdata\\local\\programs\\python\\python313\\lib\\site-packages (0.13.5)\n",
      "Note: you may need to restart the kernel to use updated packages.\n"
     ]
    },
    {
     "ename": "",
     "evalue": "",
     "output_type": "error",
     "traceback": [
      "\u001b[1;31mThe Kernel crashed while executing code in the current cell or a previous cell. \n",
      "\u001b[1;31mPlease review the code in the cell(s) to identify a possible cause of the failure. \n",
      "\u001b[1;31mClick <a href='https://aka.ms/vscodeJupyterKernelCrash'>here</a> for more info. \n",
      "\u001b[1;31mView Jupyter <a href='command:jupyter.viewOutput'>log</a> for further details."
     ]
    }
   ],
   "source": [
    "pip install keyboard\n"
   ]
  },
  {
   "cell_type": "code",
   "execution_count": 3,
   "id": "958e4684",
   "metadata": {},
   "outputs": [
    {
     "name": "stdout",
     "output_type": "stream",
     "text": [
      "Requirement already satisfied: pip in c:\\users\\sudha\\appdata\\local\\programs\\python\\python313\\lib\\site-packages (24.3.1)\n",
      "Collecting pip\n",
      "  Using cached pip-25.0.1-py3-none-any.whl.metadata (3.7 kB)\n",
      "Downloading pip-25.0.1-py3-none-any.whl (1.8 MB)\n",
      "   ---------------------------------------- 0.0/1.8 MB ? eta -:--:--\n",
      "   ---------------------------------------- 1.8/1.8 MB 25.1 MB/s eta 0:00:00\n",
      "Installing collected packages: pip\n",
      "  Attempting uninstall: pip\n",
      "    Found existing installation: pip 24.3.1\n",
      "    Uninstalling pip-24.3.1:\n",
      "      Successfully uninstalled pip-24.3.1\n",
      "Successfully installed pip-25.0.1\n",
      "Note: you may need to restart the kernel to use updated packages.\n"
     ]
    },
    {
     "name": "stderr",
     "output_type": "stream",
     "text": [
      "  WARNING: The scripts pip.exe, pip3.13.exe and pip3.exe are installed in 'c:\\Users\\sudha\\AppData\\Local\\Programs\\Python\\Python313\\Scripts' which is not on PATH.\n",
      "  Consider adding this directory to PATH or, if you prefer to suppress this warning, use --no-warn-script-location.\n"
     ]
    }
   ],
   "source": [
    "pip install --upgrade pip"
   ]
  },
  {
   "cell_type": "code",
   "execution_count": 6,
   "id": "f3f15cc0",
   "metadata": {},
   "outputs": [
    {
     "name": "stdout",
     "output_type": "stream",
     "text": [
      "Collecting pyttsx3\n",
      "  Downloading pyttsx3-2.98-py3-none-any.whl.metadata (3.8 kB)\n",
      "Collecting comtypes (from pyttsx3)\n",
      "  Downloading comtypes-1.4.10-py3-none-any.whl.metadata (7.2 kB)\n",
      "Collecting pypiwin32 (from pyttsx3)\n",
      "  Downloading pypiwin32-223-py3-none-any.whl.metadata (236 bytes)\n",
      "Requirement already satisfied: pywin32 in c:\\users\\sudha\\appdata\\roaming\\python\\python313\\site-packages (from pyttsx3) (310)\n",
      "Downloading pyttsx3-2.98-py3-none-any.whl (34 kB)\n",
      "Downloading comtypes-1.4.10-py3-none-any.whl (241 kB)\n",
      "Downloading pypiwin32-223-py3-none-any.whl (1.7 kB)\n",
      "Installing collected packages: pypiwin32, comtypes, pyttsx3\n",
      "Successfully installed comtypes-1.4.10 pypiwin32-223 pyttsx3-2.98\n",
      "Note: you may need to restart the kernel to use updated packages.\n"
     ]
    },
    {
     "name": "stderr",
     "output_type": "stream",
     "text": [
      "  WARNING: The script clear_comtypes_cache.exe is installed in 'c:\\Users\\sudha\\AppData\\Local\\Programs\\Python\\Python313\\Scripts' which is not on PATH.\n",
      "  Consider adding this directory to PATH or, if you prefer to suppress this warning, use --no-warn-script-location.\n"
     ]
    }
   ],
   "source": [
    "pip install pyttsx3\n"
   ]
  },
  {
   "cell_type": "code",
   "execution_count": null,
   "id": "2ce47951",
   "metadata": {},
   "outputs": [],
   "source": []
  }
 ],
 "metadata": {
  "kernelspec": {
   "display_name": "Python 3",
   "language": "python",
   "name": "python3"
  },
  "language_info": {
   "codemirror_mode": {
    "name": "ipython",
    "version": 3
   },
   "file_extension": ".py",
   "mimetype": "text/x-python",
   "name": "python",
   "nbconvert_exporter": "python",
   "pygments_lexer": "ipython3",
   "version": "3.13.2"
  }
 },
 "nbformat": 4,
 "nbformat_minor": 5
}
